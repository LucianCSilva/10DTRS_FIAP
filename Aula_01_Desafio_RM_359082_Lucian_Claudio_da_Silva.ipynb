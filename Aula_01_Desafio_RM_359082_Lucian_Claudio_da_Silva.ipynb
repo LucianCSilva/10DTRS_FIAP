{
  "nbformat": 4,
  "nbformat_minor": 0,
  "metadata": {
    "colab": {
      "provenance": [],
      "include_colab_link": true
    },
    "kernelspec": {
      "name": "python3",
      "display_name": "Python 3 (ipykernel)",
      "language": "python"
    },
    "language_info": {
      "name": "python"
    }
  },
  "cells": [
    {
      "cell_type": "markdown",
      "metadata": {
        "id": "view-in-github",
        "colab_type": "text"
      },
      "source": [
        "<a href=\"https://colab.research.google.com/github/LucianCSilva/10DTRS_FIAP/blob/Data-Processing-with-Python/Aula_01_Desafio_RM_359082_Lucian_Claudio_da_Silva.ipynb\" target=\"_parent\"><img src=\"https://colab.research.google.com/assets/colab-badge.svg\" alt=\"Open In Colab\"/></a>"
      ]
    },
    {
      "metadata": {
        "id": "8RHqyrWORuXt"
      },
      "cell_type": "markdown",
      "source": [
        "#**Data Processing with Python**\n",
        "**Aluno:** Lucian Cláudio da Silva\\\n",
        "**RM:** 359082\n",
        "\n",
        "\n",
        "\n"
      ]
    },
    {
      "cell_type": "markdown",
      "source": [
        "\n",
        "##Desafio da aula 1\n",
        "---"
      ],
      "metadata": {
        "id": "9J_6-nLNOdQL"
      }
    },
    {
      "cell_type": "markdown",
      "source": [
        "###**Estrutura sequencial**"
      ],
      "metadata": {
        "id": "oQd76howWhgV"
      }
    },
    {
      "cell_type": "markdown",
      "source": [
        "#### 1.\tFaça um Programa que peça um número e então mostre a mensagem *O número informado foi [número]*."
      ],
      "metadata": {
        "id": "a96A-FJ2WO7Y"
      }
    },
    {
      "cell_type": "code",
      "source": [
        "# Solicita ao usuário para digitar um número\n",
        "numero = float(input(\"Digite um número: \"))\n",
        "\n",
        "# Print do resultado\n",
        "print(\"O número informado foi\", numero)"
      ],
      "metadata": {
        "id": "AR9K3CHXWmte",
        "colab": {
          "base_uri": "https://localhost:8080/"
        },
        "outputId": "d408e466-e5e2-4764-fe9e-35c5fc89794d",
        "ExecuteTime": {
          "end_time": "2024-10-23T01:49:31.124709Z",
          "start_time": "2024-10-23T01:49:27.708138Z"
        }
      },
      "outputs": [
        {
          "name": "stdout",
          "output_type": "stream",
          "text": [
            "O número informado foi 5.0\n"
          ]
        }
      ],
      "execution_count": null
    },
    {
      "cell_type": "markdown",
      "source": [
        "####2. Faça um Programa que converta metros para centímetros."
      ],
      "metadata": {
        "id": "Q9YDk-ErWm-5"
      }
    },
    {
      "cell_type": "code",
      "source": [
        "# Solicita para o usuário digitar a medida em metros\n",
        "metros = float(input(\"Digite a medida em metros: \"))\n",
        "\n",
        "# Converte\n",
        "centimetros = metros * 100\n",
        "\n",
        "# Print do resultado\n",
        "print(\"A medida em centímetros é:\", centimetros)"
      ],
      "metadata": {
        "colab": {
          "base_uri": "https://localhost:8080/"
        },
        "id": "kELdlZZoW0aP",
        "outputId": "9842ca50-65e3-4735-b8ac-a935bcb83d1f",
        "ExecuteTime": {
          "end_time": "2024-10-23T01:49:42.182656Z",
          "start_time": "2024-10-23T01:49:38.418937Z"
        }
      },
      "outputs": [
        {
          "name": "stdout",
          "output_type": "stream",
          "text": [
            "A medida em centímetros é: 10000.0\n"
          ]
        }
      ],
      "execution_count": null
    },
    {
      "cell_type": "markdown",
      "source": [
        "####3.Faça um Programa que peça a temperatura em graus Farenheit, transforme e mostre a temperatura em graus Celsius.\n",
        "&#176;C = (5 * (F-32) / 9).\n"
      ],
      "metadata": {
        "id": "W8ImXU4dW0sc"
      }
    },
    {
      "cell_type": "code",
      "source": [
        "# Solicita para o usuário digitar a temperatura em Fahrenheit\n",
        "temperatura_f = float(input(\"Digite a temperatura em Fahrenheit: \"))\n",
        "\n",
        "# Converte\n",
        "temperatura_c = 5 * (temperatura_f - 32) / 9\n",
        "\n",
        "# Print do resultado\n",
        "print(\"A temperatura em Celsius é:\", round(temperatura_c, 1))"
      ],
      "metadata": {
        "colab": {
          "base_uri": "https://localhost:8080/"
        },
        "id": "fQqL5fG4YEjB",
        "outputId": "55579836-7339-42e1-9bd1-bc499ec350ba"
      },
      "execution_count": null,
      "outputs": [
        {
          "output_type": "stream",
          "name": "stdout",
          "text": [
            "Digite a temperatura em Fahrenheit: 70\n",
            "A temperatura em Celsius é: 21.1\n"
          ]
        }
      ]
    },
    {
      "cell_type": "markdown",
      "source": [
        "###**Listas**"
      ],
      "metadata": {
        "id": "5LP0IOXCYFFQ"
      }
    },
    {
      "cell_type": "markdown",
      "source": [
        "####4. Faça um Programa que leia um vetor de 5 números inteiros e mostre-os."
      ],
      "metadata": {
        "id": "uCbv0zcSYLhS"
      }
    },
    {
      "cell_type": "code",
      "source": [
        "# Cria a lista de números\n",
        "numeros = []\n",
        "\n",
        "# Solicita para o usuário digitar 5 números\n",
        "for i in range(5):\n",
        "    num = int(input(f\"Digite o {i+1}º número inteiro: \"))\n",
        "    numeros.append(num)\n",
        "\n",
        "# Print do resultado\n",
        "print(\"\\n\")  # Deixa um espaço entre os vetores digitados para os impressos\n",
        "print(\"Vetores digitados:\", numeros)"
      ],
      "metadata": {
        "colab": {
          "base_uri": "https://localhost:8080/"
        },
        "id": "DXinHMRcYOO3",
        "outputId": "abccf436-571d-44bd-f1eb-b5cdc71b17e5"
      },
      "execution_count": null,
      "outputs": [
        {
          "output_type": "stream",
          "name": "stdout",
          "text": [
            "Digite o 1º número inteiro: 1\n",
            "Digite o 2º número inteiro: 2\n",
            "Digite o 3º número inteiro: 3\n",
            "Digite o 4º número inteiro: 4\n",
            "Digite o 5º número inteiro: 5\n",
            "\n",
            "\n",
            "Vetores digitados: [1, 2, 3, 4, 5]\n"
          ]
        }
      ]
    },
    {
      "cell_type": "markdown",
      "source": [
        "####5. Faça um Programa que leia 20 números inteiros e armazene-os num vetor. Armazene os números pares no vetor PAR e os números ímpares no vetor IMPARES. Imprima os vetores."
      ],
      "metadata": {
        "id": "FhW0sByzYOVU"
      }
    },
    {
      "cell_type": "code",
      "source": [
        "# Cria alista de todos os números, de pares e ímpares\n",
        "numeros = []\n",
        "par = []\n",
        "impares = []\n",
        "\n",
        "# Solicita para o usuário digitar a 20 números\n",
        "for i in range(20):\n",
        "    num = int(input(f\"Digite o {i+1}º número inteiro: \"))\n",
        "    numeros.append(num)\n",
        "\n",
        "# Verifica se o número é par ou ímpar\n",
        "for num in numeros:\n",
        "    if num % 2 == 0:\n",
        "        par.append(num)\n",
        "    else:\n",
        "        impares.append(num)\n",
        "\n",
        "# Print do resultado\n",
        "print(\"\\n\")  # Deixa um espaço entre os vetores digitados para os impressos\n",
        "print(\"Vetores digitados:\", numeros)\n",
        "print(\"Números pares:\", par)\n",
        "print(\"Números ímpares:\", impares)"
      ],
      "metadata": {
        "id": "MkcSKpjDYQue",
        "colab": {
          "base_uri": "https://localhost:8080/"
        },
        "outputId": "01a3fad1-0ac1-4d1a-957b-031ef90fbabd"
      },
      "execution_count": null,
      "outputs": [
        {
          "output_type": "stream",
          "name": "stdout",
          "text": [
            "Digite o 1º número inteiro: 1\n",
            "Digite o 2º número inteiro: 2\n",
            "Digite o 3º número inteiro: 3\n",
            "Digite o 4º número inteiro: 4\n",
            "Digite o 5º número inteiro: 5\n",
            "Digite o 6º número inteiro: 6\n",
            "Digite o 7º número inteiro: 7\n",
            "Digite o 8º número inteiro: 8\n",
            "Digite o 9º número inteiro: 9\n",
            "Digite o 10º número inteiro: 10\n",
            "Digite o 11º número inteiro: 11\n",
            "Digite o 12º número inteiro: 12\n",
            "Digite o 13º número inteiro: 3\n",
            "Digite o 14º número inteiro: 14\n",
            "Digite o 15º número inteiro: 15\n",
            "Digite o 16º número inteiro: 16\n",
            "Digite o 17º número inteiro: 17\n",
            "Digite o 18º número inteiro: 18\n",
            "Digite o 19º número inteiro: 19\n",
            "Digite o 20º número inteiro: 20\n",
            "\n",
            "\n",
            "Vetores digitados: [1, 2, 3, 4, 5, 6, 7, 8, 9, 10, 11, 12, 3, 14, 15, 16, 17, 18, 19, 20]\n",
            "Números pares: [2, 4, 6, 8, 10, 12, 14, 16, 18, 20]\n",
            "Números ímpares: [1, 3, 5, 7, 9, 11, 3, 15, 17, 19]\n"
          ]
        }
      ]
    },
    {
      "cell_type": "markdown",
      "source": [
        "####6. Faça um Programa que leia um vetor de 10 caracteres, e diga quantas consoantes foram lidas. Imprima as consoantes."
      ],
      "metadata": {
        "id": "A9CkTRrlYQ1D"
      }
    },
    {
      "cell_type": "code",
      "source": [
        "# Cria a lista de todos os caracteres, das consoantes e das vogais.\n",
        "caracteres = []\n",
        "consoantes = []\n",
        "vogais = ['a', 'e', 'i', 'o', 'u']  # Já deixa definidas as vogais\n",
        "\n",
        "# Solicita para o usuário digitar 10 caracteres\n",
        "for i in range(10):\n",
        "    char = input(f'Digite o {i+1}º caractere: ').lower()  # Converte para minúsculo\n",
        "    caracteres.append(char)\n",
        "\n",
        "# Verificar quais são consoantes\n",
        "for char in caracteres:\n",
        "    if char.isalpha() and char not in vogais:\n",
        "        consoantes.append(char)\n",
        "\n",
        "# Print do resultado\n",
        "print(\"\\n\")  # Deixa um espaço entre os vetores digitados para os impressos\n",
        "print(f'Foram encontradas {len(consoantes)} consoantes.')\n",
        "print('As consoantes são: ' + ', '.join(consoantes) + '.')"
      ],
      "metadata": {
        "id": "wcPuufxgYWqg",
        "colab": {
          "base_uri": "https://localhost:8080/"
        },
        "outputId": "d8eb9614-8318-4fff-866b-a4a0947ca987"
      },
      "execution_count": null,
      "outputs": [
        {
          "output_type": "stream",
          "name": "stdout",
          "text": [
            "Digite o 1º caractere: a\n",
            "Digite o 2º caractere: b\n",
            "Digite o 3º caractere: c\n",
            "Digite o 4º caractere: d\n",
            "Digite o 5º caractere: e\n",
            "Digite o 6º caractere: f\n",
            "Digite o 7º caractere: g\n",
            "Digite o 8º caractere: h\n",
            "Digite o 9º caractere: i\n",
            "Digite o 10º caractere: j\n",
            "\n",
            "\n",
            "Foram encontradas 7 consoantes.\n",
            "As consoantes são: b, c, d, f, g, h, j.\n"
          ]
        }
      ]
    },
    {
      "cell_type": "markdown",
      "source": [
        "###**Tuplas**"
      ],
      "metadata": {
        "id": "VLbIKMpeYXSB"
      }
    },
    {
      "cell_type": "markdown",
      "source": [
        "####7. Crie uma tupla chamada cores contendo três cores de sua escolha. Em seguida, imprima cada cor em uma linha separada."
      ],
      "metadata": {
        "id": "rnyFOE1WYZob"
      }
    },
    {
      "cell_type": "code",
      "source": [
        "# Cria a tupla\n",
        "cores = (\"vermelho\", \"azul\", \"verde\")\n",
        "\n",
        "# Imprime a tupla\n",
        "print(cores[0])\n",
        "print(cores[1])\n",
        "print(cores[2])"
      ],
      "metadata": {
        "id": "nRZmNUxxYdHt",
        "colab": {
          "base_uri": "https://localhost:8080/"
        },
        "outputId": "842ba8a5-910c-449b-f126-0249ccd4f683"
      },
      "execution_count": null,
      "outputs": [
        {
          "output_type": "stream",
          "name": "stdout",
          "text": [
            "vermelho\n",
            "azul\n",
            "verde\n"
          ]
        }
      ]
    },
    {
      "cell_type": "markdown",
      "source": [
        "####8.\tDada a tupla ponto = (3, 4), calcule a distância do ponto à origem (0, 0) usando a fórmula matemática: $$\\sqrt{x^2 + y^2}$$ onde:  x e y são as coordenadas do ponto.\n"
      ],
      "metadata": {
        "id": "q5Z5kbPOYdVG"
      }
    },
    {
      "cell_type": "code",
      "source": [
        "# Cria a tupla e define na tupla o X e Y\n",
        "ponto = (3, 4)\n",
        "x = ponto[0]\n",
        "y = ponto[1]\n",
        "\n",
        "# Faz o cálculo de acordo com a fórmula\n",
        "distancia = (x**2 + y**2) ** 0.5\n",
        "\n",
        "# Imprime o resultado\n",
        "print(f\"A distância do ponto ({x}, {y}) à origem (0, 0) é: {distancia}\")"
      ],
      "metadata": {
        "id": "rTSah38xZACI",
        "colab": {
          "base_uri": "https://localhost:8080/"
        },
        "outputId": "f3719491-28d9-42be-85b7-e202d3e91a8d"
      },
      "execution_count": null,
      "outputs": [
        {
          "output_type": "stream",
          "name": "stdout",
          "text": [
            "A distância do ponto (3, 4) à origem (0, 0) é: 5.0\n"
          ]
        }
      ]
    },
    {
      "cell_type": "markdown",
      "source": [
        "####9. Dada a tupla nomes = ('Data', 'Processing', 'with', 'Python', 'data'), conte quantas vezes o nome 'Data' aparece na tupla.\n",
        "count()\n"
      ],
      "metadata": {
        "id": "Yz8UXSJEZARY"
      }
    },
    {
      "cell_type": "code",
      "source": [
        "# Cria a tupla\n",
        "nomes = ('Data', 'Processing', 'with', 'Python', 'data')\n",
        "\n",
        "# Conta quantas vezes a 'Data' aparece\n",
        "contagem = nomes.count('Data')\n",
        "\n",
        "# Imprime o resultado\n",
        "print(f\"A palavra 'Data' aparece {contagem} vez(es).\")"
      ],
      "metadata": {
        "id": "ezIJ2-3nZFu6",
        "colab": {
          "base_uri": "https://localhost:8080/"
        },
        "outputId": "f83d43c2-9e50-4f59-b4bc-fb7362fa395a"
      },
      "execution_count": null,
      "outputs": [
        {
          "output_type": "stream",
          "name": "stdout",
          "text": [
            "A palavra 'Data' aparece 1 vez(es).\n"
          ]
        }
      ]
    },
    {
      "cell_type": "markdown",
      "source": [
        "###**Dicionários**"
      ],
      "metadata": {
        "id": "VC8pTfb9ZLRl"
      }
    },
    {
      "cell_type": "markdown",
      "source": [
        "####10.\tCrie um dicionário chamado estoque com itens de um supermercado e suas quantidades. Solicite ao usuário que digite o nome de um item. Exiba a quantidade desse item, se existir no estoque."
      ],
      "metadata": {
        "id": "DuIIyF6mZMl4"
      }
    },
    {
      "cell_type": "code",
      "source": [
        "# Cria o dicionário\n",
        "estoque = {\n",
        "    \"arroz\": 50,\n",
        "    \"feijão\": 100,\n",
        "    \"macarrão\": 30,\n",
        "    \"açúcar\": 20,\n",
        "    \"sal\": 15\n",
        "}\n",
        "\n",
        "# Solicita ao usuário que digite o nome de um item\n",
        "item = input(\"Digite o nome do item que deseja consultar: \")\n",
        "\n",
        "# Verifica se o item existe no estoque e exibe a quantidade\n",
        "if item in estoque:\n",
        "    quantidade = estoque[item]\n",
        "    print(f\"Quantidade de {item} no estoque: {quantidade}\")\n",
        "else:\n",
        "    print(f\"O item {item} não está no estoque ou não tem saldo em estoque.\")"
      ],
      "metadata": {
        "id": "iYMSTkXOZQ8G",
        "colab": {
          "base_uri": "https://localhost:8080/"
        },
        "outputId": "22569457-d8d8-4bd2-cde9-3b11680b2c28"
      },
      "execution_count": null,
      "outputs": [
        {
          "output_type": "stream",
          "name": "stdout",
          "text": [
            "Digite o nome do item que deseja consultar: sal\n",
            "Quantidade de sal no estoque: 15\n"
          ]
        }
      ]
    },
    {
      "cell_type": "markdown",
      "source": [],
      "metadata": {
        "id": "Mcvwm0BtZRN0"
      }
    },
    {
      "cell_type": "markdown",
      "source": [
        "####11. Crie um dicionário chamado agenda com nomes de pessoas e seus números de telefone. Permita que o usuário adicione novos contatos à agenda."
      ],
      "metadata": {
        "id": "QvEv86A9ZUq8"
      }
    },
    {
      "cell_type": "code",
      "source": [
        "# Criar um dicionário vazio para a agenda\n",
        "agenda = {\n",
        "    \"João\": \"(11) 9999-4444\",\n",
        "    \"Maria\": \"(15) 9999-5555\",\n",
        "    \"José\": \"(41) 9999-1111\"\n",
        "}\n",
        "\n",
        "print(\"=== AGENDA TELEFÔNICA ===\")\n",
        "\n",
        "while True:\n",
        "    print(\"\\nEscolha uma opção:\")\n",
        "    print(\"1 - Adicionar contato\")\n",
        "    print(\"2 - Ver todos os contatos\")\n",
        "    print(\"3 - Sair\")\n",
        "\n",
        "    opcao = input(\"\\nDigite sua escolha (1, 2 ou 3): \")\n",
        "\n",
        "    if opcao == \"1\":\n",
        "        # Adicionar novo contato\n",
        "        nome = input(\"\\nDigite o nome do contato: \")\n",
        "        telefone = input(\"Digite o número de telefone: \")\n",
        "\n",
        "        # Adiciona ao dicionário\n",
        "        agenda[nome] = telefone\n",
        "        print(\"\\nContato adicionado com sucesso!\")\n",
        "\n",
        "    elif opcao == \"2\":\n",
        "        # Mostrar todos os contatos\n",
        "        print(\"\\n=== LISTA DE CONTATOS ===\")\n",
        "\n",
        "        if len(agenda) == 0:\n",
        "            print(\"Agenda vazia!\")\n",
        "        else:\n",
        "            for nome, telefone in agenda.items():\n",
        "                print(f\"Nome: {nome} - Telefone: {telefone}\")\n",
        "\n",
        "    elif opcao == \"3\":\n",
        "        break\n",
        "\n",
        "    else:\n",
        "        print(\"\\nOpção inválida! Tente novamente.\")"
      ],
      "metadata": {
        "id": "iiRCm-EuZYJ1",
        "colab": {
          "base_uri": "https://localhost:8080/"
        },
        "outputId": "141abd09-e46a-4a3b-f72b-c5460a276c54"
      },
      "execution_count": null,
      "outputs": [
        {
          "name": "stdout",
          "output_type": "stream",
          "text": [
            "=== AGENDA TELEFÔNICA ===\n",
            "\n",
            "Escolha uma opção:\n",
            "1 - Adicionar contato\n",
            "2 - Ver todos os contatos\n",
            "3 - Sair\n",
            "\n",
            "Digite sua escolha (1, 2 ou 3): 2\n",
            "\n",
            "=== LISTA DE CONTATOS ===\n",
            "Nome: João - Telefone: (11) 9999-4444\n",
            "Nome: Maria - Telefone: (15) 9999-5555\n",
            "Nome: José - Telefone: (41) 9999-1111\n",
            "\n",
            "Escolha uma opção:\n",
            "1 - Adicionar contato\n",
            "2 - Ver todos os contatos\n",
            "3 - Sair\n",
            "\n",
            "Digite sua escolha (1, 2 ou 3): 3\n"
          ]
        }
      ]
    },
    {
      "cell_type": "markdown",
      "source": [
        "####12. Crie dois dicionários, dicionario1 e dicionario2, com chaves e valores diferentes. Crie um terceiro dicionário, dicionario_misturado, que contenha todas as chaves e valores de ambos dicionario1 e dicionario2."
      ],
      "metadata": {
        "id": "JpjELnlkZYSE"
      }
    },
    {
      "cell_type": "code",
      "source": [
        "# Cria o 1o dicionário\n",
        "dicionario1 = {\n",
        "    \"nome\": \"João\",\n",
        "    \"idade\": 25,\n",
        "    \"cidade\": \"São Paulo\"\n",
        "}\n",
        "\n",
        "# Cria o 2o dicionário\n",
        "dicionario2 = {\n",
        "    \"profissao\": \"Programador\",\n",
        "    \"hobby\": \"Música\",\n",
        "    \"estado\": \"SP\"\n",
        "}\n",
        "\n",
        "# Cria o dicionário misturado\n",
        "dicionario_misturado = dicionario1 | dicionario2\n",
        "\n",
        "# Imprime o resultado\n",
        "print(dicionario_misturado)"
      ],
      "metadata": {
        "id": "qJ0uOaCiZmpJ",
        "colab": {
          "base_uri": "https://localhost:8080/"
        },
        "outputId": "7bedba38-ff55-4655-b763-11f756873848"
      },
      "execution_count": null,
      "outputs": [
        {
          "output_type": "stream",
          "name": "stdout",
          "text": [
            "{'nome': 'João', 'idade': 25, 'cidade': 'São Paulo', 'profissao': 'Programador', 'hobby': 'Música', 'estado': 'SP'}\n"
          ]
        }
      ]
    },
    {
      "cell_type": "markdown",
      "source": [
        "####13.\tCrie um conjunto com números inteiros e permita que o usuário adicione novos números. Remova todas as duplicatas do conjunto e imprima o conjunto resultante."
      ],
      "metadata": {
        "id": "XzQKVb0IvSMo"
      }
    },
    {
      "cell_type": "code",
      "source": [
        "# Cria um conjunto de números\n",
        "numeros = {1, 2, 3, 4, 5}\n",
        "\n",
        "print(\"=== PROGRAMA DE NÚMEROS ===\")\n",
        "print(\"Números atuais:\", numeros)\n",
        "\n",
        "while True:\n",
        "   print(\"1 - Adicionar número\")\n",
        "   print(\"2 - Ver números\")\n",
        "   print(\"3 - Sair\")\n",
        "\n",
        "   opcao = input(\"\\nEscolha uma opção: \")\n",
        "\n",
        "   if opcao == \"1\":\n",
        "       try:\n",
        "           novo_numero = int(input(\"\\nDigite um número: \"))\n",
        "\n",
        "           if novo_numero in numeros:\n",
        "               print(\"Este número já existe!\")\n",
        "           else:\n",
        "               numeros.add(novo_numero)\n",
        "               print(\"Número adicionado!\")\n",
        "\n",
        "       except:\n",
        "           print(\"Erro! Digite apenas números!\")\n",
        "\n",
        "   elif opcao == \"2\":\n",
        "       print(\"\\nNúmeros no conjunto:\", numeros)\n",
        "       print(f\"Total de números: {len(numeros)}\")\n",
        "\n",
        "   elif opcao == \"3\":\n",
        "       break"
      ],
      "metadata": {
        "colab": {
          "base_uri": "https://localhost:8080/"
        },
        "id": "wfr5_-iavU85",
        "outputId": "dcb870f1-5f38-400d-c773-074089e27069",
        "ExecuteTime": {
          "end_time": "2024-10-23T01:50:27.548433Z",
          "start_time": "2024-10-23T01:50:23.197026Z"
        }
      },
      "outputs": [
        {
          "name": "stdout",
          "output_type": "stream",
          "text": [
            "=== PROGRAMA DE NÚMEROS ===\n",
            "Números atuais: {1, 2, 3, 4, 5}\n",
            "1 - Adicionar número\n",
            "2 - Ver números\n",
            "3 - Sair\n"
          ]
        },
        {
          "ename": "KeyboardInterrupt",
          "evalue": "Interrupted by user",
          "output_type": "error",
          "traceback": [
            "\u001b[1;31m---------------------------------------------------------------------------\u001b[0m",
            "\u001b[1;31mKeyboardInterrupt\u001b[0m                         Traceback (most recent call last)",
            "Cell \u001b[1;32mIn[3], line 12\u001b[0m\n\u001b[0;32m      9\u001b[0m \u001b[38;5;28mprint\u001b[39m(\u001b[38;5;124m\"\u001b[39m\u001b[38;5;124m2 - Ver números\u001b[39m\u001b[38;5;124m\"\u001b[39m)\n\u001b[0;32m     10\u001b[0m \u001b[38;5;28mprint\u001b[39m(\u001b[38;5;124m\"\u001b[39m\u001b[38;5;124m3 - Sair\u001b[39m\u001b[38;5;124m\"\u001b[39m)\n\u001b[1;32m---> 12\u001b[0m opcao \u001b[38;5;241m=\u001b[39m \u001b[38;5;28;43minput\u001b[39;49m\u001b[43m(\u001b[49m\u001b[38;5;124;43m\"\u001b[39;49m\u001b[38;5;130;43;01m\\n\u001b[39;49;00m\u001b[38;5;124;43mEscolha uma opção: \u001b[39;49m\u001b[38;5;124;43m\"\u001b[39;49m\u001b[43m)\u001b[49m\n\u001b[0;32m     14\u001b[0m \u001b[38;5;28;01mif\u001b[39;00m opcao \u001b[38;5;241m==\u001b[39m \u001b[38;5;124m\"\u001b[39m\u001b[38;5;124m1\u001b[39m\u001b[38;5;124m\"\u001b[39m:\n\u001b[0;32m     15\u001b[0m     \u001b[38;5;28;01mtry\u001b[39;00m:\n",
            "File \u001b[1;32m~\\PycharmProjects\\scientificProject\\.venv\\Lib\\site-packages\\ipykernel\\kernelbase.py:1282\u001b[0m, in \u001b[0;36mKernel.raw_input\u001b[1;34m(self, prompt)\u001b[0m\n\u001b[0;32m   1280\u001b[0m     msg \u001b[38;5;241m=\u001b[39m \u001b[38;5;124m\"\u001b[39m\u001b[38;5;124mraw_input was called, but this frontend does not support input requests.\u001b[39m\u001b[38;5;124m\"\u001b[39m\n\u001b[0;32m   1281\u001b[0m     \u001b[38;5;28;01mraise\u001b[39;00m StdinNotImplementedError(msg)\n\u001b[1;32m-> 1282\u001b[0m \u001b[38;5;28;01mreturn\u001b[39;00m \u001b[38;5;28;43mself\u001b[39;49m\u001b[38;5;241;43m.\u001b[39;49m\u001b[43m_input_request\u001b[49m\u001b[43m(\u001b[49m\n\u001b[0;32m   1283\u001b[0m \u001b[43m    \u001b[49m\u001b[38;5;28;43mstr\u001b[39;49m\u001b[43m(\u001b[49m\u001b[43mprompt\u001b[49m\u001b[43m)\u001b[49m\u001b[43m,\u001b[49m\n\u001b[0;32m   1284\u001b[0m \u001b[43m    \u001b[49m\u001b[38;5;28;43mself\u001b[39;49m\u001b[38;5;241;43m.\u001b[39;49m\u001b[43m_parent_ident\u001b[49m\u001b[43m[\u001b[49m\u001b[38;5;124;43m\"\u001b[39;49m\u001b[38;5;124;43mshell\u001b[39;49m\u001b[38;5;124;43m\"\u001b[39;49m\u001b[43m]\u001b[49m\u001b[43m,\u001b[49m\n\u001b[0;32m   1285\u001b[0m \u001b[43m    \u001b[49m\u001b[38;5;28;43mself\u001b[39;49m\u001b[38;5;241;43m.\u001b[39;49m\u001b[43mget_parent\u001b[49m\u001b[43m(\u001b[49m\u001b[38;5;124;43m\"\u001b[39;49m\u001b[38;5;124;43mshell\u001b[39;49m\u001b[38;5;124;43m\"\u001b[39;49m\u001b[43m)\u001b[49m\u001b[43m,\u001b[49m\n\u001b[0;32m   1286\u001b[0m \u001b[43m    \u001b[49m\u001b[43mpassword\u001b[49m\u001b[38;5;241;43m=\u001b[39;49m\u001b[38;5;28;43;01mFalse\u001b[39;49;00m\u001b[43m,\u001b[49m\n\u001b[0;32m   1287\u001b[0m \u001b[43m\u001b[49m\u001b[43m)\u001b[49m\n",
            "File \u001b[1;32m~\\PycharmProjects\\scientificProject\\.venv\\Lib\\site-packages\\ipykernel\\kernelbase.py:1325\u001b[0m, in \u001b[0;36mKernel._input_request\u001b[1;34m(self, prompt, ident, parent, password)\u001b[0m\n\u001b[0;32m   1322\u001b[0m \u001b[38;5;28;01mexcept\u001b[39;00m \u001b[38;5;167;01mKeyboardInterrupt\u001b[39;00m:\n\u001b[0;32m   1323\u001b[0m     \u001b[38;5;66;03m# re-raise KeyboardInterrupt, to truncate traceback\u001b[39;00m\n\u001b[0;32m   1324\u001b[0m     msg \u001b[38;5;241m=\u001b[39m \u001b[38;5;124m\"\u001b[39m\u001b[38;5;124mInterrupted by user\u001b[39m\u001b[38;5;124m\"\u001b[39m\n\u001b[1;32m-> 1325\u001b[0m     \u001b[38;5;28;01mraise\u001b[39;00m \u001b[38;5;167;01mKeyboardInterrupt\u001b[39;00m(msg) \u001b[38;5;28;01mfrom\u001b[39;00m \u001b[38;5;28;01mNone\u001b[39;00m\n\u001b[0;32m   1326\u001b[0m \u001b[38;5;28;01mexcept\u001b[39;00m \u001b[38;5;167;01mException\u001b[39;00m:\n\u001b[0;32m   1327\u001b[0m     \u001b[38;5;28mself\u001b[39m\u001b[38;5;241m.\u001b[39mlog\u001b[38;5;241m.\u001b[39mwarning(\u001b[38;5;124m\"\u001b[39m\u001b[38;5;124mInvalid Message:\u001b[39m\u001b[38;5;124m\"\u001b[39m, exc_info\u001b[38;5;241m=\u001b[39m\u001b[38;5;28;01mTrue\u001b[39;00m)\n",
            "\u001b[1;31mKeyboardInterrupt\u001b[0m: Interrupted by user"
          ]
        }
      ],
      "execution_count": null
    },
    {
      "cell_type": "markdown",
      "source": [
        "####14.\tCrie dois conjuntos, conjunto1 e conjunto2, com elementos diferentes. Realize operações de união, interseção e diferença entre esses conjuntos e imprima os resultados."
      ],
      "metadata": {
        "id": "oazjlhh3vYjM"
      }
    },
    {
      "cell_type": "code",
      "source": [
        "# Cria os dois conjuntos\n",
        "conjunto1 = {1, 2, 3, 4, 5}\n",
        "conjunto2 = {4, 5, 6, 7, 8}\n",
        "\n",
        "# Realiza a união\n",
        "uniao = conjunto1.union(conjunto2)\n",
        "\n",
        "# Realiza a interseção\n",
        "intersecao = conjunto1.intersection(conjunto2)\n",
        "\n",
        "# Realiza a diferença\n",
        "diferenca = conjunto1.difference(conjunto2)\n",
        "\n",
        "# Imprime os resultados\n",
        "print(\"União:\", uniao)\n",
        "print(\"Interseção:\", intersecao)\n",
        "print(\"Diferença:\", diferenca)"
      ],
      "metadata": {
        "colab": {
          "base_uri": "https://localhost:8080/"
        },
        "id": "abgH4Vwyvb3l",
        "outputId": "3a2944ed-4ba0-44c5-b9a9-72c7a0bf6f0a",
        "ExecuteTime": {
          "end_time": "2024-10-23T01:50:31.868768Z",
          "start_time": "2024-10-23T01:50:31.864641Z"
        }
      },
      "outputs": [
        {
          "name": "stdout",
          "output_type": "stream",
          "text": [
            "União: {1, 2, 3, 4, 5, 6, 7, 8}\n",
            "Interseção: {4, 5}\n",
            "Diferença: {1, 2, 3}\n"
          ]
        }
      ],
      "execution_count": null
    },
    {
      "cell_type": "markdown",
      "source": [
        "####15.\tConverta uma lista em um conjunto e, em seguida, converta o conjunto de volta para uma lista. Imprima a lista resultante para verificar se a conversão foi bem-sucedida."
      ],
      "metadata": {
        "id": "xWBz6tVhvcJc"
      }
    },
    {
      "cell_type": "code",
      "source": [
        "# Cria a lista\n",
        "numeros = [1, 2, 3, 4, 5, 6, 7, 8]\n",
        "\n",
        "# Imprime a lista\n",
        "print(\"Lista original:\", numeros)\n",
        "\n",
        "# Converte lista para conjunto\n",
        "conjunto = set(numeros)\n",
        "print(\"\\nConjunto:\", conjunto)\n",
        "\n",
        "# Converte conjunto para lista\n",
        "nova_lista = list(conjunto)\n",
        "print(\"\\nLista final:\", nova_lista)"
      ],
      "metadata": {
        "colab": {
          "base_uri": "https://localhost:8080/"
        },
        "id": "Y08MbYRUvdXF",
        "outputId": "d7f77520-2c48-4956-843b-1acb7956a341"
      },
      "execution_count": null,
      "outputs": [
        {
          "output_type": "stream",
          "name": "stdout",
          "text": [
            "Lista original: [1, 2, 3, 4, 5, 6, 7, 8]\n",
            "\n",
            "Conjunto: {1, 2, 3, 4, 5, 6, 7, 8}\n",
            "\n",
            "Lista final: [1, 2, 3, 4, 5, 6, 7, 8]\n"
          ]
        }
      ]
    }
  ]
}