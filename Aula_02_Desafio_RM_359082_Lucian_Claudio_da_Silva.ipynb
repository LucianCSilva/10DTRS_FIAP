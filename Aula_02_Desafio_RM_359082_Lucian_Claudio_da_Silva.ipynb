{
  "nbformat": 4,
  "nbformat_minor": 0,
  "metadata": {
    "colab": {
      "provenance": [],
      "include_colab_link": true
    },
    "kernelspec": {
      "name": "python3",
      "display_name": "Python 3 (ipykernel)",
      "language": "python"
    },
    "language_info": {
      "name": "python"
    }
  },
  "cells": [
    {
      "cell_type": "markdown",
      "metadata": {
        "id": "view-in-github",
        "colab_type": "text"
      },
      "source": [
        "<a href=\"https://colab.research.google.com/github/LucianCSilva/10DTRS_FIAP/blob/Data-Processing-with-Python/Aula_02_Desafio_RM_359082_Lucian_Claudio_da_Silva.ipynb\" target=\"_parent\"><img src=\"https://colab.research.google.com/assets/colab-badge.svg\" alt=\"Open In Colab\"/></a>"
      ]
    },
    {
      "metadata": {
        "id": "v1MmzCIeF60d"
      },
      "cell_type": "markdown",
      "source": [
        "#**Data Processing with Python**\n",
        "**Aluno:** Lucian Cláudio da Silva\\\n",
        "**RM:** 359082\n",
        "\n",
        "\n",
        "\n"
      ]
    },
    {
      "cell_type": "markdown",
      "source": [
        "\n",
        "##Desafio da aula 2\n",
        "---"
      ],
      "metadata": {
        "id": "9J_6-nLNOdQL"
      }
    },
    {
      "cell_type": "markdown",
      "source": [
        "###**Funções**"
      ],
      "metadata": {
        "id": "oQd76howWhgV"
      }
    },
    {
      "cell_type": "markdown",
      "source": [
        "####1.\tCrie uma função chamada calcular_media que recebe uma lista de números como argumento e retorna a média desses números."
      ],
      "metadata": {
        "id": "a96A-FJ2WO7Y"
      }
    },
    {
      "cell_type": "code",
      "source": [
        "def calcular_media(lista):\n",
        "   soma = sum(lista)\n",
        "   media = soma / len(lista)\n",
        "   return media\n",
        "\n",
        "# Testando a função\n",
        "numeros = [10, 20, 30, 40, 50]\n",
        "resultado = calcular_media(numeros)\n",
        "print(f\"A média dos números {numeros} é: {resultado}\")"
      ],
      "metadata": {
        "id": "AR9K3CHXWmte",
        "colab": {
          "base_uri": "https://localhost:8080/"
        },
        "outputId": "7d4fffca-42fd-41ed-f171-f0eb1092d9f5",
        "ExecuteTime": {
          "end_time": "2024-10-23T01:49:31.124709Z",
          "start_time": "2024-10-23T01:49:27.708138Z"
        }
      },
      "outputs": [
        {
          "output_type": "stream",
          "name": "stdout",
          "text": [
            "A média dos números [10, 20, 30, 40, 50] é: 30.0\n"
          ]
        }
      ],
      "execution_count": null
    },
    {
      "cell_type": "markdown",
      "source": [
        "####2.\tCrie uma função chamada verificar_paridade que recebe um número como argumento e retorna se o número é par ou ímpar."
      ],
      "metadata": {
        "id": "Q9YDk-ErWm-5"
      }
    },
    {
      "cell_type": "code",
      "source": [
        "def verificar_paridade(numero):\n",
        "   if numero % 2 == 0:\n",
        "       return \"par\"\n",
        "   else:\n",
        "       return \"ímpar\"\n",
        "\n",
        "# Testando a função\n",
        "numeros_teste = [4, 7, 10, 15]\n",
        "\n",
        "for numero in numeros_teste:\n",
        "   resultado = verificar_paridade(numero)\n",
        "   print(f\"O número {numero} é {resultado}\")"
      ],
      "metadata": {
        "colab": {
          "base_uri": "https://localhost:8080/"
        },
        "id": "kELdlZZoW0aP",
        "outputId": "1421530b-463a-4de0-8dbd-d390bf603c6c",
        "ExecuteTime": {
          "end_time": "2024-10-23T01:49:42.182656Z",
          "start_time": "2024-10-23T01:49:38.418937Z"
        }
      },
      "outputs": [
        {
          "output_type": "stream",
          "name": "stdout",
          "text": [
            "O número 4 é par\n",
            "O número 7 é ímpar\n",
            "O número 10 é par\n",
            "O número 15 é ímpar\n"
          ]
        }
      ],
      "execution_count": null
    },
    {
      "cell_type": "markdown",
      "source": [
        "####3.\tCrie uma função lambda que recebe dois números como argumentos e retorna o primeiro número elevado à potência do segundo número.\n"
      ],
      "metadata": {
        "id": "W8ImXU4dW0sc"
      }
    },
    {
      "cell_type": "code",
      "source": [
        "potencia = lambda x, y: x ** y\n",
        "\n",
        "# Testando a função\n",
        "numero1 = 2\n",
        "numero2 = 3\n",
        "resultado = potencia(numero1, numero2)\n",
        "print(f\"{numero1} elevado a {numero2} é igual a {resultado}\")\n",
        "print(f\"5 elevado a 2 é igual a {potencia(5, 2)}\")\n",
        "print(f\"3 elevado a 4 é igual a {potencia(3, 4)}\")"
      ],
      "metadata": {
        "colab": {
          "base_uri": "https://localhost:8080/"
        },
        "id": "PKif9G3MJPTI",
        "outputId": "701637c4-ceef-4d23-ad84-352f4f79ceee"
      },
      "execution_count": null,
      "outputs": [
        {
          "output_type": "stream",
          "name": "stdout",
          "text": [
            "2 elevado a 3 é igual a 8\n",
            "5 elevado a 2 é igual a 25\n",
            "3 elevado a 4 é igual a 81\n"
          ]
        }
      ]
    },
    {
      "cell_type": "markdown",
      "source": [
        "###**Pacotes**"
      ],
      "metadata": {
        "id": "5LP0IOXCYFFQ"
      }
    },
    {
      "cell_type": "markdown",
      "source": [
        "####4.\tCrie um módulo Python com uma função que imprime uma mensagem. Importe e execute essa função em outro script Python."
      ],
      "metadata": {
        "id": "uCbv0zcSYLhS"
      }
    },
    {
      "cell_type": "code",
      "source": [
        "import mensagem\n",
        "\n",
        "# Chamando a função do módulo\n",
        "mensagem.imprimir_mensagem()"
      ],
      "metadata": {
        "colab": {
          "base_uri": "https://localhost:8080/"
        },
        "id": "DXinHMRcYOO3",
        "outputId": "ead2e205-452d-4d99-ef0b-699edd7397f6"
      },
      "execution_count": null,
      "outputs": [
        {
          "output_type": "stream",
          "name": "stdout",
          "text": [
            "Esta mensagem vem do módulo mensagem.py\n"
          ]
        }
      ]
    },
    {
      "cell_type": "markdown",
      "source": [
        "####5.\tCrie um pacote Python com dois módulos diferentes. Importe e utilize funções de ambos os módulos em outro script Python."
      ],
      "metadata": {
        "id": "FhW0sByzYOVU"
      }
    },
    {
      "cell_type": "code",
      "source": [
        "from meu_pacote.matematica import somar, multiplicar\n",
        "from meu_pacote.texto import maiusculo, minusculo\n",
        "\n",
        "# Testando as funções de matemática\n",
        "print(\"Testes de matemática\")\n",
        "resultado_soma = somar(5, 3)\n",
        "resultado_mult = multiplicar(4, 2)\n",
        "print(f\"Soma: {resultado_soma}\")\n",
        "print(f\"Multiplicação: {resultado_mult}\")\n",
        "\n",
        "# Testando as funções de texto\n",
        "print(\"\\nTestes de texto\")\n",
        "texto = \"Aula Data Processing with Python\"\n",
        "print(f\"Texto em maiúsculo: {maiusculo(texto)}\")\n",
        "print(f\"Texto em minúsculo: {minusculo(texto)}\")"
      ],
      "metadata": {
        "id": "MkcSKpjDYQue",
        "colab": {
          "base_uri": "https://localhost:8080/"
        },
        "outputId": "898fb401-8e7a-4352-b038-eccb1126664f"
      },
      "execution_count": null,
      "outputs": [
        {
          "output_type": "stream",
          "name": "stdout",
          "text": [
            "Testes de matemática\n",
            "Soma: 8\n",
            "Multiplicação: 8\n",
            "\n",
            "Testes de texto\n",
            "Texto em maiúsculo: AULA DATA PROCESSING WITH PYTHON\n",
            "Texto em minúsculo: aula data processing with python\n"
          ]
        }
      ]
    },
    {
      "cell_type": "markdown",
      "source": [
        "####6.\tUtilize o pacote requests para fazer uma requisição HTTP em um script Python. Retorne o status_code."
      ],
      "metadata": {
        "id": "A9CkTRrlYQ1D"
      }
    },
    {
      "cell_type": "code",
      "source": [
        "!pip install requests\n",
        "\n",
        "import requests"
      ],
      "metadata": {
        "id": "wcPuufxgYWqg",
        "colab": {
          "base_uri": "https://localhost:8080/"
        },
        "outputId": "b47b4b9b-0e5f-4d2f-e97c-3d2485d5b30e"
      },
      "execution_count": null,
      "outputs": [
        {
          "output_type": "stream",
          "name": "stdout",
          "text": [
            "Requirement already satisfied: requests in /usr/local/lib/python3.10/dist-packages (2.32.3)\n",
            "Requirement already satisfied: charset-normalizer<4,>=2 in /usr/local/lib/python3.10/dist-packages (from requests) (3.4.0)\n",
            "Requirement already satisfied: idna<4,>=2.5 in /usr/local/lib/python3.10/dist-packages (from requests) (3.10)\n",
            "Requirement already satisfied: urllib3<3,>=1.21.1 in /usr/local/lib/python3.10/dist-packages (from requests) (2.2.3)\n",
            "Requirement already satisfied: certifi>=2017.4.17 in /usr/local/lib/python3.10/dist-packages (from requests) (2024.8.30)\n"
          ]
        }
      ]
    },
    {
      "cell_type": "code",
      "source": [
        "url = 'https://www.google.com.br'\n",
        "resposta = requests.get(url)\n",
        "\n",
        "status = resposta.status_code\n",
        "print(f\"O status code da requisição para {url} é: {status}\")"
      ],
      "metadata": {
        "colab": {
          "base_uri": "https://localhost:8080/"
        },
        "id": "1DRERpRVL9mN",
        "outputId": "f1ac9259-b17d-49c7-f3b2-d9b0e8cdeb86"
      },
      "execution_count": null,
      "outputs": [
        {
          "output_type": "stream",
          "name": "stdout",
          "text": [
            "O status code da requisição para https://www.google.com.br é: 200\n"
          ]
        }
      ]
    },
    {
      "cell_type": "markdown",
      "source": [
        "###**Arquivos e I/O**"
      ],
      "metadata": {
        "id": "VLbIKMpeYXSB"
      }
    },
    {
      "cell_type": "markdown",
      "source": [
        "####7.\tLeia o conteúdo de um arquivo de texto e imprima-o na tela."
      ],
      "metadata": {
        "id": "rnyFOE1WYZob"
      }
    },
    {
      "cell_type": "code",
      "source": [
        "with open('anotacoes.txt', 'r', encoding='utf-8') as arquivo:\n",
        "   conteudo = arquivo.read()\n",
        "   print(\"Conteúdo:\")\n",
        "   print(\"-\" * 30)\n",
        "   print(conteudo)"
      ],
      "metadata": {
        "id": "nRZmNUxxYdHt",
        "colab": {
          "base_uri": "https://localhost:8080/"
        },
        "outputId": "965a092b-2588-4e66-aedd-282745dd3add"
      },
      "execution_count": null,
      "outputs": [
        {
          "output_type": "stream",
          "name": "stdout",
          "text": [
            "Conteúdo:\n",
            "------------------------------\n",
            "Lista de compras do mercado:\n",
            "- Pão francês (6 unidades)\n",
            "- Leite integral 1L\n",
            "- Ovos (1 dúzia)\n",
            "- Banana prata\n",
            "- Café em pó 500g\n",
            "\n",
            "Lembrar de ligar pro dentista amanhã!\n",
            "Agendar limpeza e revisão das cáries.\n",
            "\n",
            "Maria me pediu a receita do bolo de chocolate:\n",
            "2 xíc. farinha\n",
            "1 xíc. açúcar\n",
            "3 ovos\n",
            "1/2 xíc. leite\n",
            "Assar por 40min\n",
            "\n"
          ]
        }
      ]
    },
    {
      "cell_type": "markdown",
      "source": [
        "####8.\tSolicite ao usuário que digite algumas linhas de texto e grave essas linhas em um arquivo de texto.\n"
      ],
      "metadata": {
        "id": "q5Z5kbPOYdVG"
      }
    },
    {
      "cell_type": "code",
      "source": [
        "print(\"Digite seu texto abaixo (para terminar, digite 'FIM' em uma linha vazia):\")\n",
        "linhas = []\n",
        "\n",
        "while True:\n",
        "   linha = input()\n",
        "   if linha == 'FIM':\n",
        "       break\n",
        "   linhas.append(linha)\n",
        "\n",
        "# Salvando o texto em um arquivo\n",
        "with open('texto_usuario.txt', 'w') as arquivo:\n",
        "   for linha in linhas:\n",
        "       arquivo.write(linha + '\\n')\n",
        "\n",
        "print(\"\\nTexto salvo com sucesso!\")"
      ],
      "metadata": {
        "id": "rTSah38xZACI",
        "colab": {
          "base_uri": "https://localhost:8080/"
        },
        "outputId": "77fee462-51d4-4758-d9c6-99919303152c"
      },
      "execution_count": null,
      "outputs": [
        {
          "output_type": "stream",
          "name": "stdout",
          "text": [
            "Digite seu texto abaixo (para terminar, digite 'FIM' em uma linha vazia):\n",
            "Preciso estudar Python\n",
            "Aula Data Processing with Python\n",
            "10DTSR FIAP\n",
            "FIM\n",
            "\n",
            "Texto salvo com sucesso!\n"
          ]
        }
      ]
    },
    {
      "cell_type": "code",
      "source": [
        "# Comando para ler o arquivo TXT\n",
        "print(\"\\nConteúdo salvo no arquivo:\")\n",
        "print(\"-\" * 30)\n",
        "with open('texto_usuario.txt', 'r') as arquivo:\n",
        "   print(arquivo.read())"
      ],
      "metadata": {
        "colab": {
          "base_uri": "https://localhost:8080/"
        },
        "id": "2Tu7_NCbNodB",
        "outputId": "27cec438-7804-48fe-c316-1e8137f36dc9"
      },
      "execution_count": null,
      "outputs": [
        {
          "output_type": "stream",
          "name": "stdout",
          "text": [
            "\n",
            "Conteúdo salvo no arquivo:\n",
            "------------------------------\n",
            "Preciso estudar Python\n",
            "Aula Data Processing with Python\n",
            "10DTSR FIAP\n",
            "\n"
          ]
        }
      ]
    },
    {
      "cell_type": "markdown",
      "source": [
        "###**Tempo**"
      ],
      "metadata": {
        "id": "VC8pTfb9ZLRl"
      }
    },
    {
      "cell_type": "markdown",
      "source": [
        "####9.\tObtenha a data atual e imprima-a na tela."
      ],
      "metadata": {
        "id": "DuIIyF6mZMl4"
      }
    },
    {
      "cell_type": "code",
      "source": [
        "from datetime import datetime, timedelta\n",
        "\n",
        "# Obtendo a data atual\n",
        "data_atual = datetime.now()\n",
        "print(\"Data atual:\", data_atual)"
      ],
      "metadata": {
        "id": "iYMSTkXOZQ8G",
        "colab": {
          "base_uri": "https://localhost:8080/"
        },
        "outputId": "4f8119ad-9651-4568-8538-19df44db84e9"
      },
      "execution_count": null,
      "outputs": [
        {
          "output_type": "stream",
          "name": "stdout",
          "text": [
            "Data atual: 2024-10-24 02:13:49.323749\n"
          ]
        }
      ]
    },
    {
      "cell_type": "markdown",
      "source": [
        "####10.\tObtenha a data atual e imprima-a na tela no formato dia/mês/ano."
      ],
      "metadata": {
        "id": "QvEv86A9ZUq8"
      }
    },
    {
      "cell_type": "code",
      "source": [
        "from datetime import datetime, timedelta\n",
        "\n",
        "# Obtendo a data atual\n",
        "data_atual = datetime.now()\n",
        "\n",
        "# Formatando a data\n",
        "data_formatada = data_atual.strftime(\"%d/%m/%Y\")\n",
        "\n",
        "print(f\"Data atual: {data_formatada}\")"
      ],
      "metadata": {
        "id": "iiRCm-EuZYJ1",
        "colab": {
          "base_uri": "https://localhost:8080/"
        },
        "outputId": "e5842f6d-3140-4c3d-fef3-92aac1129d9e"
      },
      "execution_count": null,
      "outputs": [
        {
          "output_type": "stream",
          "name": "stdout",
          "text": [
            "Data atual: 24/10/2024\n"
          ]
        }
      ]
    },
    {
      "cell_type": "markdown",
      "source": [
        "####11.\tAgende uma tarefa para ser executada daqui a 10 minutos e imprima uma mensagem quando ela for executada."
      ],
      "metadata": {
        "id": "JpjELnlkZYSE"
      }
    },
    {
      "cell_type": "code",
      "source": [
        "import time\n",
        "\n",
        "# Aguarda 10 minutos = 10 * 60 segundos = 600\n",
        "time.sleep(600)\n",
        "\n",
        "print('Executado!\\n')"
      ],
      "metadata": {
        "id": "qJ0uOaCiZmpJ",
        "colab": {
          "base_uri": "https://localhost:8080/"
        },
        "outputId": "955acc42-43d9-451b-b163-debb419342a6"
      },
      "execution_count": null,
      "outputs": [
        {
          "output_type": "stream",
          "name": "stdout",
          "text": [
            "Executado!\n",
            "\n"
          ]
        }
      ]
    },
    {
      "cell_type": "markdown",
      "source": [
        "###**Regex**"
      ],
      "metadata": {
        "id": "ep_zblcRHMaW"
      }
    },
    {
      "cell_type": "markdown",
      "source": [
        "####12.\tValide se um endereço de e-mail está em um formato válido usando expressões regulares.\n",
        "regex101: build, test, and debug regex\n"
      ],
      "metadata": {
        "id": "XzQKVb0IvSMo"
      }
    },
    {
      "cell_type": "code",
      "source": [
        "import re\n",
        "\n",
        "def validar_email(email):\n",
        "   padrao = r'^[a-zA-Z0-9._%+-]+@[a-zA-Z0-9.-]+\\.[a-zA-Z]{2,}$'\n",
        "   return True if re.match(padrao, email) else False\n",
        "\n",
        "# Testando alguns emails comuns\n",
        "emails = [\n",
        "   \"pedro123@gmail.com\",\n",
        "   \"contato@empresa.com.br\",\n",
        "   \"jose@yahoo.com\",\n",
        "   \"maria@hotmail\",  # faltou .com\n",
        "   \"joao@.com\",      # faltou domínio\n",
        "   \"teste@gmail.\",   # faltou complemento\n",
        "]\n",
        "\n",
        "print(\"Verificando lista de emails:\")\n",
        "for email in emails:\n",
        "   resultado = \"Válido\" if validar_email(email) else \"Inválido\"\n",
        "   print(f\"{email} - {resultado}\")"
      ],
      "metadata": {
        "colab": {
          "base_uri": "https://localhost:8080/"
        },
        "id": "wfr5_-iavU85",
        "outputId": "90f8a6f7-cbe9-4e48-a5e5-d196afc008b6",
        "ExecuteTime": {
          "end_time": "2024-10-23T01:50:27.548433Z",
          "start_time": "2024-10-23T01:50:23.197026Z"
        }
      },
      "outputs": [
        {
          "output_type": "stream",
          "name": "stdout",
          "text": [
            "Verificando lista de emails:\n",
            "pedro123@gmail.com - Válido\n",
            "contato@empresa.com.br - Válido\n",
            "jose@yahoo.com - Válido\n",
            "maria@hotmail - Inválido\n",
            "joao@.com - Inválido\n",
            "teste@gmail. - Inválido\n"
          ]
        }
      ],
      "execution_count": null
    },
    {
      "cell_type": "markdown",
      "source": [
        "####13.\tExtraia todos os números de uma string usando expressões regulares."
      ],
      "metadata": {
        "id": "oazjlhh3vYjM"
      }
    },
    {
      "cell_type": "code",
      "source": [
        "import re\n",
        "\n",
        "# Um texto comum com vários números\n",
        "texto = \"Minha idade é 33 anos, minha altura é 1.72 e peso 110kg. Nasci em 1990 e tenho 1 irmã.\"\n",
        "\n",
        "# Pegando todos os números do texto\n",
        "numeros = re.findall(r'\\d+\\.?\\d*', texto)\n",
        "\n",
        "print(\"Números encontrados no texto:\")\n",
        "for num in numeros:\n",
        "   print(num)"
      ],
      "metadata": {
        "colab": {
          "base_uri": "https://localhost:8080/"
        },
        "id": "abgH4Vwyvb3l",
        "outputId": "4ff050af-5e93-438f-d4a0-81428335275b",
        "ExecuteTime": {
          "end_time": "2024-10-23T01:50:31.868768Z",
          "start_time": "2024-10-23T01:50:31.864641Z"
        }
      },
      "outputs": [
        {
          "output_type": "stream",
          "name": "stdout",
          "text": [
            "Números encontrados no texto:\n",
            "33\n",
            "1.72\n",
            "110\n",
            "1990\n",
            "1\n"
          ]
        }
      ],
      "execution_count": null
    },
    {
      "cell_type": "markdown",
      "source": [
        "####14.\tVerifique se uma string está no formato de data dd/mm/aaaa usando expressões regulares."
      ],
      "metadata": {
        "id": "-l6TX1vOHcfV"
      }
    },
    {
      "cell_type": "code",
      "source": [
        "import re\n",
        "\n",
        "def verificar_data(data):\n",
        "   padrao = r'^\\d{2}/\\d{2}/\\d{4}$'\n",
        "   return True if re.match(padrao, data) else False\n",
        "\n",
        "# Testando algumas datas\n",
        "datas = [\n",
        "   \"25/12/2023\",\n",
        "   \"01/01/2024\",\n",
        "   \"32/13/2023\",  # data inválida\n",
        "   \"1/1/2024\",    # faltou o zero\n",
        "   \"25-12-2023\",  # formato errado\n",
        "   \"2023/12/25\"   # ordem errada\n",
        "]\n",
        "\n",
        "print(\"Verificando datas:\")\n",
        "for data in datas:\n",
        "   resultado = \"OK\" if verificar_data(data) else \"Incorreto\"\n",
        "   print(f\"{data} - {resultado}\")"
      ],
      "metadata": {
        "colab": {
          "base_uri": "https://localhost:8080/"
        },
        "id": "IBm5gGdOHiMj",
        "outputId": "dc229302-4662-49f0-e1d6-58f16c1ace46"
      },
      "execution_count": null,
      "outputs": [
        {
          "output_type": "stream",
          "name": "stdout",
          "text": [
            "Verificando datas:\n",
            "25/12/2023 - OK\n",
            "01/01/2024 - OK\n",
            "32/13/2023 - OK\n",
            "1/1/2024 - Incorreto\n",
            "25-12-2023 - Incorreto\n",
            "2023/12/25 - Incorreto\n"
          ]
        }
      ]
    }
  ]
}